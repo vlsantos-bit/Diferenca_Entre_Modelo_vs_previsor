{
  "nbformat": 4,
  "nbformat_minor": 0,
  "metadata": {
    "colab": {
      "name": "Comparative_prev.ipynb",
      "provenance": [],
      "collapsed_sections": []
    },
    "kernelspec": {
      "name": "python3",
      "display_name": "Python 3"
    },
    "language_info": {
      "name": "python"
    }
  },
  "cells": [
    {
      "cell_type": "code",
      "metadata": {
        "colab": {
          "base_uri": "https://localhost:8080/"
        },
        "id": "CekGXlACFQSH",
        "outputId": "71c7177e-c1e4-426a-ec93-135d17c91e5c"
      },
      "source": [
        "#Instalando bibliotecas \n",
        "!pip install pyowm==2.10.0"
      ],
      "execution_count": 1,
      "outputs": [
        {
          "output_type": "stream",
          "text": [
            "Collecting pyowm==2.10.0\n",
            "\u001b[?25l  Downloading https://files.pythonhosted.org/packages/41/2a/83e26bc87763d0d34767ddc5c875608d4a0a0da66e59730a15c55aec6eff/pyowm-2.10.0-py3-none-any.whl (3.7MB)\n",
            "\u001b[K     |████████████████████████████████| 3.8MB 27.2MB/s \n",
            "\u001b[?25hRequirement already satisfied: requests<3,>=2.20.0 in /usr/local/lib/python3.7/dist-packages (from pyowm==2.10.0) (2.23.0)\n",
            "Collecting geojson<3,>=2.3.0\n",
            "  Downloading https://files.pythonhosted.org/packages/e4/8d/9e28e9af95739e6d2d2f8d4bef0b3432da40b7c3588fbad4298c1be09e48/geojson-2.5.0-py2.py3-none-any.whl\n",
            "Requirement already satisfied: chardet<4,>=3.0.2 in /usr/local/lib/python3.7/dist-packages (from requests<3,>=2.20.0->pyowm==2.10.0) (3.0.4)\n",
            "Requirement already satisfied: idna<3,>=2.5 in /usr/local/lib/python3.7/dist-packages (from requests<3,>=2.20.0->pyowm==2.10.0) (2.10)\n",
            "Requirement already satisfied: urllib3!=1.25.0,!=1.25.1,<1.26,>=1.21.1 in /usr/local/lib/python3.7/dist-packages (from requests<3,>=2.20.0->pyowm==2.10.0) (1.24.3)\n",
            "Requirement already satisfied: certifi>=2017.4.17 in /usr/local/lib/python3.7/dist-packages (from requests<3,>=2.20.0->pyowm==2.10.0) (2021.5.30)\n",
            "Installing collected packages: geojson, pyowm\n",
            "Successfully installed geojson-2.5.0 pyowm-2.10.0\n"
          ],
          "name": "stdout"
        }
      ]
    },
    {
      "cell_type": "code",
      "metadata": {
        "id": "huCLpDw7MZ8_"
      },
      "source": [
        "#Importando bibliotecas \n",
        "import pyowm \n",
        "import requests, json\n",
        "import pandas as pd\n",
        "import matplotlib.pyplot as plt"
      ],
      "execution_count": 2,
      "outputs": []
    },
    {
      "cell_type": "code",
      "metadata": {
        "colab": {
          "base_uri": "https://localhost:8080/"
        },
        "id": "W8DsoMzxWgbo",
        "outputId": "c69da8ac-c1f3-4d29-c87c-e7e0c734eecc"
      },
      "source": [
        "link = \"http://api.openweathermap.org/data/2.5/forecast?q=\"\n",
        "#Escolhendo a cidade (Para incluir cidade com nome composto basta usar +, ex: Rio+de+Janeiro)\n",
        "cidade = \"Pelotas\"\n",
        "pais = \",BR,\"\n",
        "chave_de_acesso = \"&appid=\" + \"Inserir o a Key da sua API, cadastro realizado no https://openweathermap.org/api\"\n",
        "unidade = \"&units=metric\"\n",
        "previsão_cidade = link + cidade + pais + chave_de_acesso + unidade\n",
        "print(previsão_cidade)"
      ],
      "execution_count": 6,
      "outputs": [
        {
          "output_type": "stream",
          "text": [
            "http://api.openweathermap.org/data/2.5/forecast?q=Pelotas,BR,&appid=aa176b35de67c6dc056233723f91bbe2&units=metric\n"
          ],
          "name": "stdout"
        }
      ]
    },
    {
      "cell_type": "code",
      "metadata": {
        "id": "a3PxyQqfWQOp"
      },
      "source": [
        "forecast_json_data = requests.get(previsão_cidade).json()"
      ],
      "execution_count": 7,
      "outputs": []
    },
    {
      "cell_type": "code",
      "metadata": {
        "id": "0502T2tyMnHD"
      },
      "source": [
        "#Criando vetores para extração os dados\n",
        "df_predictions = pd.DataFrame()\n",
        "prediction_num = 0\n",
        "list_prediction_num = []\n",
        "date_time_prediction = []\n",
        "owm_city_id = []\n",
        "city_name = []\n",
        "timezone = [] \n",
        "temp_prediction = []\n",
        "temp_feels_like_prediction = []\n",
        "temp_min_prediction = []\n",
        "temp_max_prediction = []\n",
        "pressure_prediction = []\n",
        "sea_level_prediction = []\n",
        "grnd_level_prediction = []\n",
        "humidity_prediction = []\n",
        "temp_kf_prediction = []\n",
        "main_weather_prediction = []\n",
        "main_weather_description_prediction = []\n",
        "clouds_prediction = []\n",
        "wind_speed_prediction = []\n",
        "wind_degree_prediction = []\n",
        "# Loop por meio do JSON\n",
        "for num_forecasts in forecast_json_data['list']:\n",
        "    df_predictions['prediction_num'] = prediction_num\n",
        "    list_prediction_num.append(prediction_num)\n",
        "    date_time_prediction.append(forecast_json_data['list'][prediction_num]['dt_txt'])\n",
        "    \n",
        "    owm_city_id.append(forecast_json_data['city']['id'])\n",
        "    city_name.append(forecast_json_data['city']['name'])\n",
        "    \n",
        "    if forecast_json_data['city']['timezone'] >0 :\n",
        "        timezone.append(\"+\" + str((forecast_json_data['city']['timezone'])/3600))\n",
        "    else:\n",
        "        timezone.append((forecast_json_data['city']['timezone'])/3600)\n",
        "\n",
        "    temp_prediction.append(forecast_json_data['list'][prediction_num]['main']['temp'])\n",
        "    temp_feels_like_prediction.append(forecast_json_data['list'][prediction_num]['main']['feels_like'])\n",
        "    temp_min_prediction.append(forecast_json_data['list'][prediction_num]['main']['temp_min'])\n",
        "    temp_max_prediction.append(forecast_json_data['list'][prediction_num]['main']['temp_max'])\n",
        "    pressure_prediction.append(forecast_json_data['list'][prediction_num]['main']['pressure'])\n",
        "    sea_level_prediction.append(forecast_json_data['list'][prediction_num]['main']['sea_level'])\n",
        "    grnd_level_prediction.append(forecast_json_data['list'][prediction_num]['main']['grnd_level'])\n",
        "    humidity_prediction.append(forecast_json_data['list'][prediction_num]['main']['humidity'])\n",
        "    temp_kf_prediction.append(forecast_json_data['list'][prediction_num]['main']['temp_kf'])\n",
        "    main_weather_prediction.append(forecast_json_data['list'][prediction_num]['weather'][0]['main'])\n",
        "    main_weather_description_prediction.append(forecast_json_data['list'][prediction_num]['weather'][0]['description'])\n",
        "    clouds_prediction.append(forecast_json_data['list'][prediction_num]['clouds']['all'])\n",
        "    wind_speed_prediction.append(forecast_json_data['list'][prediction_num]['wind']['speed'])\n",
        "    wind_degree_prediction.append(forecast_json_data['list'][prediction_num]['wind']['deg'])\n",
        "    \n",
        "    prediction_num += 1\n",
        "\n",
        "# Inserindo valores extraidos do link para um DataFrame\n",
        "df_predictions['Data_previsão'] = date_time_prediction\n",
        "df_predictions['Cidade'] = city_name\n",
        "df_predictions['temperatura_prevista'] = temp_prediction\n",
        "df_predictions['temp_min_prevista'] = temp_min_prediction\n",
        "df_predictions['temp_max_prevista'] = temp_max_prediction\n",
        "df_predictions['pressão_prevista'] = pressure_prediction\n",
        "df_predictions['umidade prevista'] = humidity_prediction\n",
        "df_predictions['Previsão'] = main_weather_prediction\n",
        "df_predictions['Descrição da previsão'] = main_weather_description_prediction\n",
        "df_predictions['nuvens_previstas'] = clouds_prediction\n",
        "df_predictions['Velocidade do Vento'] = wind_speed_prediction\n",
        "df_predictions['Direção do vento'] = wind_degree_prediction\n",
        "df_predictions.head()\n",
        "dado_p = df_predictions.drop(columns=['prediction_num'])"
      ],
      "execution_count": 8,
      "outputs": []
    },
    {
      "cell_type": "code",
      "metadata": {
        "colab": {
          "base_uri": "https://localhost:8080/",
          "height": 409
        },
        "id": "984SggqbRY6x",
        "outputId": "b8d26a45-4ac9-442b-fe45-60545b6e0350"
      },
      "source": [
        "#Plotando tendencia de temperatura para os próximas dias\n",
        "\n",
        "#Escolhendo variaveis disponíveis abaixo.\n",
        "t=dado_p['temperatura_prevista']\n",
        "tim=dado_p['Data_previsão']\n",
        "plt.figure(figsize=(10,4))\n",
        "plt.xticks(rotation=90)\n",
        "plt.xlabel('Tempo') \n",
        "plt.ylabel('Variavel escolhida') \n",
        "plt.title(\"Previsão de temperatura para os próximos dias\")\n",
        "plt.plot(tim,t)"
      ],
      "execution_count": 9,
      "outputs": [
        {
          "output_type": "execute_result",
          "data": {
            "text/plain": [
              "[<matplotlib.lines.Line2D at 0x7fe97a190590>]"
            ]
          },
          "metadata": {
            "tags": []
          },
          "execution_count": 9
        },
        {
          "output_type": "display_data",
          "data": {
            "image/png": "[encoded data removed]",
            "text/plain": [
              "<Figure size 720x288 with 1 Axes>"
            ]
          },
          "metadata": {
            "tags": [],
            "needs_background": "light"
          }
        }
      ]
    },
    {
      "cell_type": "code",
      "metadata": {
        "id": "s45jXRVTkFmJ"
      },
      "source": [
        "#Escolha dos dias para a plotagem da previsão\n",
        "#1°Dia\n",
        "selecao1 = (dado_p['Data_previsão'] >= '2021-07-14 00:00:00\t') & (dado_p['Data_previsão'] <= '2021-07-14 21:00:00\t').values\n",
        "prev_1 = dado_p[selecao1]\n",
        "#2°Dia\n",
        "selecao2 = (dado_p['Data_previsão'] >= '2021-07-15 00:00:00\t') & (dado_p['Data_previsão'] <= '2021-07-15 21:00:00\t').values\n",
        "prev_2 = dado_p[selecao2]\n",
        "#3°Dia\n",
        "selecao3 = (dado_p['Data_previsão'] >= '2021-07-16 00:00:00\t') & (dado_p['Data_previsão'] <= '2021-07-16 21:00:00\t').values\n",
        "prev_3 = dado_p[selecao3]"
      ],
      "execution_count": 10,
      "outputs": []
    },
    {
      "cell_type": "code",
      "metadata": {
        "colab": {
          "base_uri": "https://localhost:8080/",
          "height": 444
        },
        "id": "yl-_66vqg9f8",
        "outputId": "31833af3-873a-4d55-e19b-f16199cb1219"
      },
      "source": [
        "#Visualizando previsão selecionada\n",
        "prev_3"
      ],
      "execution_count": 14,
      "outputs": [
        {
          "output_type": "execute_result",
          "data": {
            "text/html": [
              "<div>\n",
              "<style scoped>\n",
              "    .dataframe tbody tr th:only-of-type {\n",
              "        vertical-align: middle;\n",
              "    }\n",
              "\n",
              "    .dataframe tbody tr th {\n",
              "        vertical-align: top;\n",
              "    }\n",
              "\n",
              "    .dataframe thead th {\n",
              "        text-align: right;\n",
              "    }\n",
              "</style>\n",
              "<table border=\"1\" class=\"dataframe\">\n",
              "  <thead>\n",
              "    <tr style=\"text-align: right;\">\n",
              "      <th></th>\n",
              "      <th>Data_previsão</th>\n",
              "      <th>Cidade</th>\n",
              "      <th>temperatura_prevista</th>\n",
              "      <th>temp_min_prevista</th>\n",
              "      <th>temp_max_prevista</th>\n",
              "      <th>pressão_prevista</th>\n",
              "      <th>umidade prevista</th>\n",
              "      <th>Previsão</th>\n",
              "      <th>Descrição da previsão</th>\n",
              "      <th>nuvens_previstas</th>\n",
              "      <th>Velocidade do Vento</th>\n",
              "      <th>Direção do vento</th>\n",
              "    </tr>\n",
              "  </thead>\n",
              "  <tbody>\n",
              "    <tr>\n",
              "      <th>18</th>\n",
              "      <td>2021-07-16 03:00:00</td>\n",
              "      <td>Pelotas</td>\n",
              "      <td>11.42</td>\n",
              "      <td>11.42</td>\n",
              "      <td>11.42</td>\n",
              "      <td>1020</td>\n",
              "      <td>83</td>\n",
              "      <td>Clouds</td>\n",
              "      <td>broken clouds</td>\n",
              "      <td>80</td>\n",
              "      <td>1.01</td>\n",
              "      <td>282</td>\n",
              "    </tr>\n",
              "    <tr>\n",
              "      <th>19</th>\n",
              "      <td>2021-07-16 06:00:00</td>\n",
              "      <td>Pelotas</td>\n",
              "      <td>11.00</td>\n",
              "      <td>11.00</td>\n",
              "      <td>11.00</td>\n",
              "      <td>1019</td>\n",
              "      <td>83</td>\n",
              "      <td>Clouds</td>\n",
              "      <td>broken clouds</td>\n",
              "      <td>77</td>\n",
              "      <td>1.42</td>\n",
              "      <td>282</td>\n",
              "    </tr>\n",
              "    <tr>\n",
              "      <th>20</th>\n",
              "      <td>2021-07-16 09:00:00</td>\n",
              "      <td>Pelotas</td>\n",
              "      <td>8.15</td>\n",
              "      <td>8.15</td>\n",
              "      <td>8.15</td>\n",
              "      <td>1020</td>\n",
              "      <td>94</td>\n",
              "      <td>Clear</td>\n",
              "      <td>clear sky</td>\n",
              "      <td>0</td>\n",
              "      <td>1.33</td>\n",
              "      <td>238</td>\n",
              "    </tr>\n",
              "    <tr>\n",
              "      <th>21</th>\n",
              "      <td>2021-07-16 12:00:00</td>\n",
              "      <td>Pelotas</td>\n",
              "      <td>10.29</td>\n",
              "      <td>10.29</td>\n",
              "      <td>10.29</td>\n",
              "      <td>1021</td>\n",
              "      <td>85</td>\n",
              "      <td>Clear</td>\n",
              "      <td>clear sky</td>\n",
              "      <td>0</td>\n",
              "      <td>0.83</td>\n",
              "      <td>246</td>\n",
              "    </tr>\n",
              "    <tr>\n",
              "      <th>22</th>\n",
              "      <td>2021-07-16 15:00:00</td>\n",
              "      <td>Pelotas</td>\n",
              "      <td>15.26</td>\n",
              "      <td>15.26</td>\n",
              "      <td>15.26</td>\n",
              "      <td>1021</td>\n",
              "      <td>62</td>\n",
              "      <td>Clear</td>\n",
              "      <td>clear sky</td>\n",
              "      <td>0</td>\n",
              "      <td>1.33</td>\n",
              "      <td>100</td>\n",
              "    </tr>\n",
              "    <tr>\n",
              "      <th>23</th>\n",
              "      <td>2021-07-16 18:00:00</td>\n",
              "      <td>Pelotas</td>\n",
              "      <td>15.65</td>\n",
              "      <td>15.65</td>\n",
              "      <td>15.65</td>\n",
              "      <td>1018</td>\n",
              "      <td>58</td>\n",
              "      <td>Clear</td>\n",
              "      <td>clear sky</td>\n",
              "      <td>0</td>\n",
              "      <td>2.70</td>\n",
              "      <td>83</td>\n",
              "    </tr>\n",
              "    <tr>\n",
              "      <th>24</th>\n",
              "      <td>2021-07-16 21:00:00</td>\n",
              "      <td>Pelotas</td>\n",
              "      <td>10.38</td>\n",
              "      <td>10.38</td>\n",
              "      <td>10.38</td>\n",
              "      <td>1018</td>\n",
              "      <td>84</td>\n",
              "      <td>Clear</td>\n",
              "      <td>clear sky</td>\n",
              "      <td>0</td>\n",
              "      <td>2.57</td>\n",
              "      <td>68</td>\n",
              "    </tr>\n",
              "  </tbody>\n",
              "</table>\n",
              "</div>"
            ],
            "text/plain": [
              "          Data_previsão   Cidade  ...  Velocidade do Vento  Direção do vento\n",
              "18  2021-07-16 03:00:00  Pelotas  ...                 1.01               282\n",
              "19  2021-07-16 06:00:00  Pelotas  ...                 1.42               282\n",
              "20  2021-07-16 09:00:00  Pelotas  ...                 1.33               238\n",
              "21  2021-07-16 12:00:00  Pelotas  ...                 0.83               246\n",
              "22  2021-07-16 15:00:00  Pelotas  ...                 1.33               100\n",
              "23  2021-07-16 18:00:00  Pelotas  ...                 2.70                83\n",
              "24  2021-07-16 21:00:00  Pelotas  ...                 2.57                68\n",
              "\n",
              "[7 rows x 12 columns]"
            ]
          },
          "metadata": {
            "tags": []
          },
          "execution_count": 14
        }
      ]
    },
    {
      "cell_type": "code",
      "metadata": {
        "id": "XhAKuSCTiHQc",
        "colab": {
          "base_uri": "https://localhost:8080/"
        },
        "outputId": "ed3c9d24-3787-4ac4-c862-7d63ea6a8bfc"
      },
      "source": [
        "#Estraindo temperaturas máximas e mínimas da tambela\n",
        "a=prev_3['temp_min_prevista'].min()\n",
        "b=prev_3['temp_max_prevista'].max()\n",
        "print(a)\n",
        "print(b)"
      ],
      "execution_count": 15,
      "outputs": [
        {
          "output_type": "stream",
          "text": [
            "8.15\n",
            "15.65\n"
          ],
          "name": "stdout"
        }
      ]
    },
    {
      "cell_type": "markdown",
      "metadata": {
        "id": "i91XW3R9Svcx"
      },
      "source": [
        "Abaixo foi realizado um código avaliar o desempenho da previsão através de um comparativo com os dados do GFS acima (Cidade escolhida) com os valores inseridos por voce, previsor! \n",
        "\n",
        "Obs: Posteriormente, após meus estudos, estarei inserindo ao código o download das estações para validar o comparativo. "
      ]
    },
    {
      "cell_type": "code",
      "metadata": {
        "colab": {
          "base_uri": "https://localhost:8080/"
        },
        "id": "RIlXce5jT2WZ",
        "outputId": "5d6a6d97-46c9-48c1-ca23-75d33f6da7fa"
      },
      "source": [
        "#Comparando previsão com o modelo\n",
        "dad = []\n",
        "dad1 = []\n",
        "dad2 = []\n",
        "#Criando input dos dados\n",
        "print('Insira a previsão para amanhã')\n",
        "tmax = input('Temperatura max: ')\n",
        "dad.append(float(tmax))\n",
        "tmin = input('Temperatura min: ')\n",
        "dad.append(float(tmin))\n",
        "vv = input('Velocidade do Vento: ')\n",
        "dad.append(float(vv))\n",
        "umid = input('Umidade_prevista ')\n",
        "dad.append(float(umid))\n",
        "\n",
        "print('Insira a previsão para depois de amanhã')\n",
        "tmax1 = input('Temperatura max +2°dia: ')\n",
        "dad1.append(float(tmax1))\n",
        "tmin1 = input('Temperatura min +2°dia: ')\n",
        "dad1.append(float(tmin1))\n",
        "vv1 = input('Velocidade do Vento +2°dia: ')\n",
        "dad1.append(float(vv1))\n",
        "umid1 = input('Umidade_prevista +2°dia ')\n",
        "dad1.append(float(umid1))\n",
        "\n",
        "print('Insira a previsão para daqui 3 dias')\n",
        "tmax2 = input('Temperatura max +3°dia: ')\n",
        "dad2.append(float(tmax2))\n",
        "tmin2 = input('Temperatura min +3°dia: ')\n",
        "dad2.append(float(tmin2))\n",
        "vv2 = input('Velocidade do Vento +3°dia: ')\n",
        "dad2.append(float(vv2))\n",
        "umid2 = input('Umidade_prevista +3°dia ')\n",
        "dad2.append(float(umid2))\n",
        "\n",
        "#Acrescentendo variavéis de previsão\n",
        "\n",
        "var =['Temperatura max:','Temperatura min:','Velocidade do Vento (dia)','Média da Umidade_prevista (dia)']\n",
        "var = pd.DataFrame({'Var':var}) \n",
        "dad=pd.DataFrame(dad)\n",
        "r_dad = pd.concat([var,dad], axis=True)\n",
        "\n",
        "var1=['Temperatura max:','Temperatura min:','Velocidade do Vento (dia)','Média da Umidade_prevista (dia)']\n",
        "var1 = pd.DataFrame({'Var':var1}) \n",
        "dad1=pd.DataFrame(dad1)\n",
        "r1_dad = pd.concat([var1,dad1], axis=True)\n",
        "\n",
        "var2=['Temperatura max:','Temperatura min:','Velocidade do Vento (dia)','Média da Umidade_prevista (dia)']\n",
        "var2 = pd.DataFrame({'Var':var2}) \n",
        "dad2=pd.DataFrame(dad2)\n",
        "r2_dad = pd.concat([var2,dad2], axis=True)\n",
        "\n",
        "#Extraindo info do modelo1(GFS)\n",
        "mod=[]\n",
        "mod.append(prev_1['temp_max_prevista'].max())  \n",
        "mod.append(prev_1['temp_min_prevista'].min())\n",
        "mod.append(prev_1['Velocidade do Vento'].max())\n",
        "mod.append(prev_1['umidade prevista'].max())\n",
        "mod = pd.DataFrame({'GFS':mod})\n",
        "r_dad = pd.concat([var,dad,mod], axis=True)\n",
        "\n",
        "mod1=[]\n",
        "mod1.append(prev_2['temp_max_prevista'].max())  \n",
        "mod1.append(prev_2['temp_min_prevista'].min())\n",
        "mod1.append(prev_2['Velocidade do Vento'].max())\n",
        "mod1.append(prev_2['umidade prevista'].max())\n",
        "mod1 = pd.DataFrame({'GFS':mod1})\n",
        "r1_dad = pd.concat([var1,dad1,mod1], axis=True)\n",
        "\n",
        "mod2=[]\n",
        "mod2.append(prev_2['temp_max_prevista'].max())  \n",
        "mod2.append(prev_3['temp_min_prevista'].min())\n",
        "mod2.append(prev_3['Velocidade do Vento'].max())\n",
        "mod2.append(prev_3['umidade prevista'].mean())\n",
        "mod2 = pd.DataFrame({'GFS':mod2})\n",
        "r2_dad = pd.concat([var2,dad2,mod2], axis=True)\n",
        "\n",
        "#Calculo percentual entre as os dados \n",
        "a=(((r_dad['GFS']-r_dad[0])/r_dad[0])*100)\n",
        "a = pd.DataFrame({'Percentual de diferença':a})\n",
        "r_dad = pd.concat([var,dad,mod,a], axis=True)\n",
        "\n",
        "a1=(((r1_dad['GFS']-r_dad[0])/r_dad[0])*100)\n",
        "a1 = pd.DataFrame({'Percentual de diferença':a1})\n",
        "r1_dad = pd.concat([var1,dad1,mod1,a1], axis=True)\n",
        "\n",
        "a2=(((r2_dad['GFS']-r_dad[0])/r_dad[0])*100)\n",
        "a2 = pd.DataFrame({'Percentual de diferença':a2})\n",
        "r2_dad = pd.concat([var2,dad2,mod2,a2], axis=True)\n",
        "#Visualizando os resultados \n",
        "print(r_dad)\n",
        "print(r1_dad)\n",
        "print(r2_dad)"
      ],
      "execution_count": 16,
      "outputs": [
        {
          "output_type": "stream",
          "text": [
            "Insira a previsão para amanhã\n",
            "Temperatura max: 20\n",
            "Temperatura min: 11\n",
            "Velocidade do Vento: 4\n",
            "Umidade_prevista 80\n",
            "Insira a previsão para depois de amanhã\n",
            "Temperatura max +2°dia: 20\n",
            "Temperatura min +2°dia: 10\n",
            "Velocidade do Vento +2°dia: 25\n",
            "Umidade_prevista +2°dia 20\n",
            "Insira a previsão para daqui 3 dias\n",
            "Temperatura max +3°dia: 20\n",
            "Temperatura min +3°dia: 07\n",
            "Velocidade do Vento +3°dia: 04\n",
            "Umidade_prevista +3°dia 5\n",
            "                               Var     0    GFS  Percentual de diferença\n",
            "0                 Temperatura max:  20.0  18.16                -9.200000\n",
            "1                 Temperatura min:  11.0  14.31                30.090909\n",
            "2        Velocidade do Vento (dia)   4.0   4.67                16.750000\n",
            "3  Média da Umidade_prevista (dia)  80.0  97.00                21.250000\n",
            "                               Var     0    GFS  Percentual de diferença\n",
            "0                 Temperatura max:  20.0  15.88               -20.600000\n",
            "1                 Temperatura min:  10.0  12.78                16.181818\n",
            "2        Velocidade do Vento (dia)  25.0   5.93                48.250000\n",
            "3  Média da Umidade_prevista (dia)  20.0  98.00                22.500000\n",
            "                               Var     0        GFS  Percentual de diferença\n",
            "0                 Temperatura max:  20.0  15.880000               -20.600000\n",
            "1                 Temperatura min:   7.0   8.150000               -25.909091\n",
            "2        Velocidade do Vento (dia)   4.0   2.700000               -32.500000\n",
            "3  Média da Umidade_prevista (dia)   5.0  78.428571                -1.964286\n"
          ],
          "name": "stdout"
        }
      ]
    },
    {
      "cell_type": "code",
      "metadata": {
        "id": "OBUPOHa55guW"
      },
      "source": [
        "#Posterior adicionar previsão das estações selecionadas"
      ],
      "execution_count": 17,
      "outputs": []
    }
  ]
}